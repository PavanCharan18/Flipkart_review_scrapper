{
 "cells": [
  {
   "cell_type": "code",
   "execution_count": 1,
   "id": "fe10be7d",
   "metadata": {},
   "outputs": [],
   "source": [
    "from flask import Flask, render_template, request,jsonify\n",
    "from flask_cors import CORS,cross_origin\n",
    "import requests\n",
    "from bs4 import BeautifulSoup as bs\n",
    "from urllib.request import urlopen as uReq"
   ]
  },
  {
   "cell_type": "code",
   "execution_count": 2,
   "id": "649cd074",
   "metadata": {},
   "outputs": [
    {
     "data": {
      "text/plain": [
       "'https://www.flipkart.com/search?q=Iphone%207'"
      ]
     },
     "execution_count": 2,
     "metadata": {},
     "output_type": "execute_result"
    }
   ],
   "source": [
    "search = \"Iphone 7\"\n",
    "searchString = search.replace(\" \",\"%20\")\n",
    "flipkart_url = \"https://www.flipkart.com/search?q=\" + searchString\n",
    "flipkart_url"
   ]
  },
  {
   "cell_type": "code",
   "execution_count": null,
   "id": "49cc66e3",
   "metadata": {},
   "outputs": [],
   "source": [
    "uClient = uReq(flipkart_url)"
   ]
  }
 ],
 "metadata": {
  "kernelspec": {
   "display_name": "Python 3",
   "language": "python",
   "name": "python3"
  },
  "language_info": {
   "codemirror_mode": {
    "name": "ipython",
    "version": 3
   },
   "file_extension": ".py",
   "mimetype": "text/x-python",
   "name": "python",
   "nbconvert_exporter": "python",
   "pygments_lexer": "ipython3",
   "version": "3.8.8"
  }
 },
 "nbformat": 4,
 "nbformat_minor": 5
}
